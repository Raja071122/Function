{
  "nbformat": 4,
  "nbformat_minor": 0,
  "metadata": {
    "colab": {
      "provenance": []
    },
    "kernelspec": {
      "name": "python3",
      "display_name": "Python 3"
    },
    "language_info": {
      "name": "python"
    }
  },
  "cells": [
    {
      "cell_type": "markdown",
      "source": [
        "# **Theory Questions:**"
      ],
      "metadata": {
        "id": "PQuLG-6Y2T3Z"
      }
    },
    {
      "cell_type": "markdown",
      "source": [
        "Q1. What is the difference between a function and a method in Python?\n",
        " - Function\n",
        "A function is a block of reusable code that performs a specific task.\n",
        "\n",
        "Defined using the def keyword.\n",
        "\n",
        "Can be called independently and is not tied to an object.\n",
        "\n",
        "Example:\n",
        "\n",
        "def greet(name):\n",
        "    return f\"Hello, {name}!\"\n",
        "\n",
        "print(greet(\"Alice\"))  # Function call\n",
        "\n",
        " - Method : A method is a function that is associated with an object (typically a class instance).\n",
        "\n",
        "Also defined using the def keyword within a class.\n",
        "\n",
        "Called using dot notation: object.method().\n",
        "\n",
        "The first parameter of a method is usually self, which refers to the instance of the class.\n",
        "\n",
        "Example:\n",
        "\n",
        "class Greeter:\n",
        "    def greet(self, name):\n",
        "        return f\"Hello, {name}!\"\n",
        "\n",
        "g = Greeter()\n",
        "print(g.greet(\"Alice\"))  # Method call\n",
        "\n",
        "Q2. Explain the concept of function arguments and parameters in Python.\n",
        " - Certainly! Here's a theoretical-style answer with examples, suitable for academic or written assignments:\n",
        "\n",
        "Function Arguments and Parameters in Python\n",
        "\n",
        "In Python, functions are blocks of reusable code designed to perform a specific task. When defining and calling functions, two important concepts come into play: parameters and arguments.\n",
        "\n",
        "Definition\n",
        "\n",
        "Parameters are the variables listed inside the parentheses in the function definition. They act as placeholders for the values the function will receive.\n",
        "Arguments are the actual values passed to the function when it is called. These values are assigned to the corresponding parameters.\n",
        "\n",
        "Example\n",
        "\n",
        "def greet(name):  # 'name' is a parameter\n",
        "    print(f\"Hello, {name}!\")\n",
        "\n",
        "greet(\"Alice\")     # \"Alice\" is an argument\n",
        "\n",
        "In the example above:\n",
        "\n",
        "The function greet has one parameter: name.\n",
        "\n",
        "When the function is called using greet(\"Alice\"), the argument \"Alice\" is passed to the parameter name.\n",
        "\n",
        "Types of Arguments in Python\n",
        "\n",
        "Python supports various ways to pass arguments to functions:\n",
        "\n",
        "1. Positional Arguments\n",
        "These are matched to parameters by their position in the function call.\n",
        "\n",
        "def add(a, b):\n",
        "    return a + b\n",
        "\n",
        "result = add(2, 3)  # 2 is passed to 'a', 3 is passed to 'b'\n",
        "\n",
        "2. Keyword Arguments\n",
        "\n",
        "These are matched by the name of the parameter.\n",
        "\n",
        "result = add(a=2, b=3)  # Clear and readable\n",
        "\n",
        "3. Default Arguments\n",
        "\n",
        "Parameters can have default values, which are used if no argument is provided for that parameter.\n",
        "\n",
        "def greet(name=\"Guest\"):\n",
        "    print(f\"Hello, {name}!\")\n",
        "\n",
        "greet()          # Uses default value: \"Guest\"\n",
        "greet(\"Alice\")   # Uses provided value: \"Alice\"\n",
        "\n",
        "Q3. What are the different ways to define and call a function in Python?\n",
        " - Simple Function Definition and Call\n",
        "\n",
        "Defined using def. Called by name with arguments.\n",
        "def greet(name):  \n",
        "    print(f\"Hello, {name}!\")  \n",
        "greet(\"Alice\")  # Output: Hello, Alice!\n",
        "Function with Default Parameters\n",
        "\n",
        "Parameters can have default values.\n",
        "def greet(name=\"Guest\"):\n",
        "    print(f\"Hello, {name}!\")\n",
        "greet()        # Output: Hello, Guest!\n",
        "greet(\"Alice\") # Output: Hello, Alice!\n",
        "Function with Arbitrary Positional Arguments (args)\n",
        "\n",
        "Accepts any number of positional arguments.\n",
        "def add(*args):\n",
        "    return sum(args)\n",
        "print(add(1, 2, 3))  # Output: 6\n",
        "\n",
        "Function with Arbitrary Keyword Arguments (kwargs)\n",
        "\n",
        "Accepts any number of keyword arguments.\n",
        "def print_info(kwargs):\n",
        "    for key, value in kwargs.items():\n",
        "        print(f\"{key}: {value}\")\n",
        "print_info(name=\"Alice\", age=30)\n",
        "Lambda (Anonymous) Function\n",
        "\n",
        "A short, one-line function.\n",
        "multiply = lambda x, y: x * y\n",
        "print(multiply(2, 3))  # Output: 6\n",
        "Recursive Function\n",
        "\n",
        "A function that calls itself.\n",
        "def factorial(n):\n",
        "    return 1 if n == 0 else n * factorial(n - 1)\n",
        "print(factorial(5))  # Output: 120\n",
        "Function as First-Class Objects\n",
        "\n",
        "Functions can be passed as arguments or returned.\n",
        "def execute_function(func):\n",
        "    return func(3, 4)\n",
        "def add(x, y):\n",
        "    return x + y\n",
        "print(execute_function(add))  # Output: 7\n",
        "\n",
        "Q4. What is the purpose of the `return` statement in a Python function?\n",
        " - Purpose of the return Statement in Python\n",
        "\n",
        "The return statement is used to exit a function and send a value back to the caller. Without it, a function returns None by default.\n",
        "\n",
        "Key Points:\n",
        "-Exits the Function: The function stops execution when return is encountered.\n",
        "-Returns a Value: The value after return is sent back to the caller.\n",
        "-Optional Return: If no value is provided, the function returns None.\n",
        "\n",
        "Example:\n",
        "def add(a, b):\n",
        "    return a + b\n",
        "\n",
        "result = add(3, 5)  # result gets the returned value: 8\n",
        "print(result)  # Output: 8\n",
        "\n",
        "Q5. What are iterators in Python and how do they differ from iterables?\n",
        " - Iterators vs Iterables in Python\n",
        "\n",
        "In Python, iterables and iterators are closely related concepts used to handle sequences of data. Here's a breakdown of their differences and how they work.\n",
        "\n",
        "1. Iterable:\n",
        "\n",
        "An iterable is any object in Python that can return an iterator. It represents a collection of data that can be looped over, such as a list, tuple, or string.\n",
        "\n",
        "An iterable can be looped through using a for loop.\n",
        "\n",
        "An iterable implements the __iter__() method, which returns an iterator.\n",
        "\n",
        "Example of an Iterable:\n",
        "# List is an iterable\n",
        "my_list = [1, 2, 3]\n",
        "\n",
        "# An iterable can be looped through\n",
        "for item in my_list:\n",
        "    print(item)\n",
        "\n",
        "2. Iterator:\n",
        "An iterator is an object that represents a stream of data. It keeps track of its position while iterating over an iterable. An iterator is created from an iterable and implements two methods:\n",
        "\n",
        "__iter__(): Returns the iterator itself.\n",
        "__next__(): Returns the next item in the sequence. When the items are exhausted, it raises a StopIteration exception.\n",
        "Example of an Iterator:\n",
        "# Creating an iterator from an iterable\n",
        "my_list = [1, 2, 3]\n",
        "iterator = iter(my_list)\n",
        "\n",
        "# Using __next__ to iterate manually\n",
        "print(next(iterator))  # Output: 1\n",
        "print(next(iterator))  # Output: 2\n",
        "print(next(iterator))  # Output: 3\n",
        "# print(next(iterator))  # Raises StopIteration\n",
        "\n",
        "Q6. Explain the concept of generators in Python and how they are defined.\n",
        " - Generators in Python\n",
        "A generator in Python is a special type of iterator that is defined using a function or an expression. It allows you to iterate over a potentially large sequence of values, but instead of storing all the values in memory at once, it generates them on the fly, one at a time. This makes generators memory-efficient and lazy.\n",
        "\n",
        "How Generators Work\n",
        "Lazy Evaluation: Generators yield values one at a time when requested, instead of generating all values upfront and storing them in memory. This is known as lazy evaluation.\n",
        "\n",
        "State Retention: A generator function retains its state between iterations. After a value is yielded, the function's state (such as local variables) is preserved, and execution can resume from where it left off.\n",
        "\n",
        "yield Keyword: The yield statement is used to define a generator. It pauses the function and returns a value, but retains the function’s state, so the next time the generator is called, it resumes execution right after the yield.\n",
        "\n",
        "Defining a Generator\n",
        "Generators can be defined in two main ways:\n",
        "\n",
        "Generator Function: A function that uses yield to return values one at a time.\n",
        "\n",
        "Generator Expression: A compact way to define a generator using an expression, similar to list comprehensions.\n",
        "\n",
        "1. Generator Function Example\n",
        "A generator function is defined like a regular function but uses yield to return a value.\n",
        "\n",
        "def count_up_to(max):\n",
        "    count = 1\n",
        "    while count <= max:\n",
        "        yield count  # Yield returns a value and suspends the function\n",
        "        count += 1\n",
        "\n",
        "# Create a generator object\n",
        "counter = count_up_to(5)\n",
        "\n",
        "# Iterate through the generator\n",
        "for num in counter:\n",
        "    print(num)\n",
        "Output:\n",
        "1\n",
        "2\n",
        "3\n",
        "4\n",
        "5\n",
        "In this example:\n",
        "\n",
        "count_up_to() is a generator function that yields numbers from 1 to max.\n",
        "The function pauses at each yield and resumes from that point when the next value is requested.\n",
        "\n",
        ". Generator Expression Example\n",
        "A generator expression is similar to a list comprehension but uses parentheses () instead of square brackets [].\n",
        "\n",
        "squares = (x * x for x in range(1, 6))\n",
        "\n",
        "# Iterating through the generator\n",
        "for square in squares:\n",
        "    print(square)\n",
        "Output:\n",
        "1\n",
        "4\n",
        "9\n",
        "16\n",
        "25\n",
        "In this example:\n",
        "\n",
        "The generator expression (x * x for x in range(1, 6)) generates squares of numbers from 1 to 5 on the fly.\n",
        "Advantages of Generators\n",
        "\n",
        "Memory Efficiency: Generators are memory-efficient because they generate values one at a time and don’t store them all in memory.\n",
        "\n",
        "Lazy Evaluation: They only generate values when needed, which can be helpful when working with large datasets or infinite sequences.\n",
        "\n",
        "Readable and Concise: Generators make it easy to write clean, readable code for lazy iteration, especially in complex scenarios.\n",
        "\n",
        "Q7. What are the advantages of using generators over regular functions?\n",
        " - Advantages of Using Generators Over Regular Functions\n",
        "Memory Efficiency: Generators produce values one at a time, so they don't store the entire sequence in memory, making them more memory-efficient than functions that return full lists or collections.\n",
        "\n",
        "def count_up_to(max):\n",
        "    count = 1\n",
        "    while count <= max:\n",
        "        yield count  # Returns one value at a time\n",
        "        count += 1\n",
        "Performance: Generators evaluate values lazily, which improves performance by generating only the required values, instead of creating the entire sequence upfront.\n",
        "\n",
        "Handling Infinite Sequences: Generators can handle infinite sequences (like generating primes) because they only generate values on demand.\n",
        "\n",
        "def prime_generator():\n",
        "    n = 2\n",
        "    while True:\n",
        "        if all(n % i != 0 for i in range(2, int(n**0.5) + 1)):\n",
        "            yield n\n",
        "        n += 1\n",
        "Cleaner Code: Generators simplify code by eliminating the need for managing state or intermediate data structures.\n",
        "\n",
        "def count_up_to(max):\n",
        "    count = 1\n",
        "    while count <= max:\n",
        "        yield count  # Simple, clean iteration\n",
        "        count += 1\n",
        "Infinite Looping: Generators can produce an endless stream of data, which is useful for infinite loops or recursion.\n",
        "\n",
        "Pipelining: Generators can be chained together, allowing efficient data processing without needing to store intermediate results.\n",
        "\n",
        "result = (x * 2 for x in range(10) if x % 2 == 0)\n",
        "\n",
        "Q8. What is a lambda function in Python and when is it typically used?\n",
        "- Lambda Function in Python\n",
        "A lambda function in Python is a small anonymous function defined using the lambda keyword. Unlike regular functions defined with def, a lambda function can take any number of arguments but can only contain a single expression. It returns the result of that expression automatically.\n",
        "\n",
        "Syntax:\n",
        "lambda arguments: expression\n",
        "arguments: The input parameters (can be multiple, separated by commas).\n",
        "expression: A single expression whose result is returned.\n",
        "Example of a Lambda Function:\n",
        "# A lambda function to add two numbers\n",
        "add = lambda x, y: x + y\n",
        "print(add(3, 5))  # Output: 8\n",
        "In this example, lambda x, y: x + y is a simple lambda function that takes two arguments and returns their sum.\n",
        "\n",
        "When is it Typically Used?\n",
        "Short Functions: Lambda functions are often used for short, simple operations where defining a full function with def would be unnecessary or overly verbose.\n",
        "\n",
        "# Sorting a list of tuples by the second element\n",
        "pairs = [(1, 2), (3, 1), (5, 6)]\n",
        "pairs.sort(key=lambda x: x[1])  # Sort by second element\n",
        "print(pairs)  # Output: [(3, 1), (1, 2), (5, 6)]\n",
        "\n",
        "In Higher-Order Functions: Lambda functions are often used with functions like map(), filter(), and reduce() where a simple function is needed as an argument.\n",
        "\n",
        "# Using lambda with map() to square each element\n",
        "numbers = [1, 2, 3, 4]\n",
        "squares = list(map(lambda x: x ** 2, numbers))\n",
        "print(squares)  # Output: [1, 4, 9, 16]\n",
        "As Arguments to Functions: Lambda functions are commonly passed as arguments to other functions, especially when the function is needed temporarily.\n",
        "\n",
        "# Using lambda with filter() to get even numbers\n",
        "numbers = [1, 2, 3, 4, 5, 6]\n",
        "even_numbers = list(filter(lambda x: x % 2 == 0, numbers))\n",
        "print(even_numbers)  # Output: [2, 4, 6]\n",
        "\n",
        "Advantages:\n",
        "\n",
        "Concise: Useful for short, one-off functions.\n",
        "Functional Programming: Frequently used in higher-order functions or functional programming contexts.\n",
        "\n",
        "Limitations:\n",
        "\n",
        "Single Expression: A lambda can only contain one expression, making it unsuitable for complex logic.\n",
        "Less Readable: For complex operations, using lambda can make code harder to read and understand compared to regular functions.\n",
        "\n",
        "Q9. Explain the purpose and usage of the `map()` function in Python.\n",
        " - Purpose of map() in Python\n",
        "The map() function applies a given function to each item of an iterable (like a list, tuple, etc.) and returns an iterator that produces the results.\n",
        "\n",
        "Syntax:\n",
        "map(function, iterable)\n",
        "function: The function to apply to each element of the iterable.\n",
        "iterable: The iterable whose elements are processed by the function.\n",
        "Example:\n",
        "# Function to square a number\n",
        "def square(x):\n",
        "    return x * x\n",
        "\n",
        "# Applying square() to each item in the list\n",
        "numbers = [1, 2, 3, 4]\n",
        "squared_numbers = map(square, numbers)\n",
        "\n",
        "# Converting map object to list and printing it\n",
        "print(list(squared_numbers))  # Output: [1, 4, 9, 16]\n",
        "You can also use lambda with map() for shorter code:\n",
        "\n",
        "numbers = [1, 2, 3, 4]\n",
        "squared_numbers = map(lambda x: x * x, numbers)\n",
        "print(list(squared_numbers))  # Output: [1, 4, 9, 16]\n",
        "Usage:\n",
        "map() is used to transform or modify each item of an iterable using a function.\n",
        "It's useful when you want to apply a simple operation to each element, like squaring numbers or converting strings to uppercase.\n",
        "\n",
        "Q10. What is the difference between `map()`, `reduce()`, and `filter()` functions in Python?\n",
        " - Difference Between map(), reduce(), and filter() in Python\n",
        "All three functions — map(), reduce(), and filter() — are higher-order functions in Python used to process iterables, but they differ in their purpose and how they work:\n",
        "\n",
        "1. map():\n",
        "Purpose: Applies a function to each item of an iterable and returns an iterator with the results.\n",
        "\n",
        "Usage: When you want to transform each element of the iterable.\n",
        "\n",
        "Example:\n",
        "\n",
        "numbers = [1, 2, 3, 4]\n",
        "squared = map(lambda x: x * x, numbers)\n",
        "print(list(squared))  # Output: [1, 4, 9, 16]\n",
        "2. filter():\n",
        "Purpose: Applies a function to each item of an iterable and filters out the items that return False. Returns an iterator of items where the function returns True.\n",
        "\n",
        "Usage: When you want to filter elements based on a condition.\n",
        "\n",
        "Example:\n",
        "\n",
        "numbers = [1, 2, 3, 4, 5]\n",
        "even_numbers = filter(lambda x: x % 2 == 0, numbers)\n",
        "print(list(even_numbers))  # Output: [2, 4]\n",
        "\n",
        "3. reduce():\n",
        "Purpose: Applies a function cumulatively to the items of an iterable, reducing it to a single value. It is available in the functools module.\n",
        "\n",
        "Usage: When you want to reduce an iterable to a single value (like summing numbers or finding a product).\n",
        "\n",
        "Example:\n",
        "\n",
        "from functools import reduce\n",
        "numbers = [1, 2, 3, 4]\n",
        "product = reduce(lambda x, y: x * y, numbers)\n",
        "print(product)  # Output: 24"
      ],
      "metadata": {
        "id": "HqWnhoV52dIe"
      }
    },
    {
      "cell_type": "markdown",
      "source": [
        "# **Functions Practical Questions**"
      ],
      "metadata": {
        "id": "e_j4uK0IErPl"
      }
    },
    {
      "cell_type": "code",
      "source": [
        "# Q1.Write a Python function that takes a list of numbers as input and returns the sum of all even numbers in\n",
        "# the list.\n",
        "\n",
        "def sum_of_evens(numbers):\n",
        "    # Filter out the even numbers and sum them\n",
        "    return sum(num for num in numbers if num % 2 == 0)\n",
        "\n",
        "# Example usage\n",
        "numbers = [47, 11, 42, 13, 6, 8]\n",
        "result = sum_of_evens(numbers)\n",
        "print(\"Sum of even numbers:\", result)"
      ],
      "metadata": {
        "colab": {
          "base_uri": "https://localhost:8080/"
        },
        "id": "w5eJ_T1oEtbO",
        "outputId": "ed5394cd-53ec-4531-84f5-8959a9117c60"
      },
      "execution_count": 1,
      "outputs": [
        {
          "output_type": "stream",
          "name": "stdout",
          "text": [
            "Sum of even numbers: 56\n"
          ]
        }
      ]
    },
    {
      "cell_type": "code",
      "source": [
        "# Q2.Create a Python function that accepts a string and returns the reverse of that string.\n",
        "\n",
        "def reverse_string(s):\n",
        "    return s[::-1]\n",
        "\n",
        "# Example usage\n",
        "input_string = \"Pwskills\"\n",
        "reversed_string = reverse_string(input_string)\n",
        "print(\"Reversed string:\", reversed_string)"
      ],
      "metadata": {
        "colab": {
          "base_uri": "https://localhost:8080/"
        },
        "id": "ugC3nC2AE7oH",
        "outputId": "cf9af48b-8853-41c0-b4cf-002ad37f8fd9"
      },
      "execution_count": 3,
      "outputs": [
        {
          "output_type": "stream",
          "name": "stdout",
          "text": [
            "Reversed string: sllikswP\n"
          ]
        }
      ]
    },
    {
      "cell_type": "code",
      "source": [
        "# Q3. Implement a Python function that takes a list of integers and returns a new list containing the squares of each number.\n",
        "\n",
        "def square_numbers(numbers):\n",
        "    return [num ** 2 for num in numbers]\n",
        "\n",
        "# Example usage\n",
        "input_numbers = [1, 2, 3, 4, 5]\n",
        "squared_numbers = square_numbers(input_numbers)\n",
        "print(\"Squared numbers:\", squared_numbers)"
      ],
      "metadata": {
        "colab": {
          "base_uri": "https://localhost:8080/"
        },
        "id": "ulTwDgCVFduH",
        "outputId": "8c9fed91-4317-4925-e706-a336db62e2d2"
      },
      "execution_count": 5,
      "outputs": [
        {
          "output_type": "stream",
          "name": "stdout",
          "text": [
            "Squared numbers: [1, 4, 9, 16, 25]\n"
          ]
        }
      ]
    },
    {
      "cell_type": "code",
      "source": [
        "# Q4. Write a Python function that checks if a given number is prime or not from 1 to 200.\n",
        "\n",
        "def is_prime(n):\n",
        "    # Check if the number is less than 2\n",
        "    if n <= 1:\n",
        "        return False\n",
        "\n",
        "    # Check divisibility from 2 to sqrt(n)\n",
        "    for i in range(2, int(n ** 0.5) + 1):\n",
        "        if n % i == 0:\n",
        "            return False  # n is divisible by i, so it's not prime\n",
        "\n",
        "    return True  # n is prime\n",
        "\n",
        "# Get user input\n",
        "user_input = int(input(\"Enter a number between 1 and 200 to check if it's prime: \"))\n",
        "\n",
        "# Check if the input is within the valid range\n",
        "if 1 <= user_input <= 200:\n",
        "    if is_prime(user_input):\n",
        "        print(f\"{user_input} is a prime number.\")\n",
        "    else:\n",
        "        print(f\"{user_input} is not a prime number.\")\n",
        "else:\n",
        "    print(\"Please enter a number between 1 and 200.\")\n",
        ""
      ],
      "metadata": {
        "colab": {
          "base_uri": "https://localhost:8080/"
        },
        "id": "k5PzLViLFvF2",
        "outputId": "666b1d19-33e6-4ef8-ef11-1a8a8ad1dfad"
      },
      "execution_count": 6,
      "outputs": [
        {
          "output_type": "stream",
          "name": "stdout",
          "text": [
            "Enter a number between 1 and 200 to check if it's prime: 165\n",
            "165 is not a prime number.\n"
          ]
        }
      ]
    },
    {
      "cell_type": "code",
      "source": [
        "# Q5. Create an iterator class in Python that generates the Fibonacci sequence up to a specified number of terms.\n",
        "\n",
        "\n",
        "class FibonacciIterator:\n",
        "    def __init__(self, n):\n",
        "        self.n = n\n",
        "        self.a, self.b = 0, 1\n",
        "        self.count = 0\n",
        "\n",
        "    def __iter__(self):\n",
        "        return self\n",
        "\n",
        "    def __next__(self):\n",
        "        if self.count >= self.n:\n",
        "            raise StopIteration\n",
        "\n",
        "        fibonacci_number = self.a\n",
        "        self.a, self.b = self.b, self.a + self.b\n",
        "        self.count += 1\n",
        "        return fibonacci_number\n",
        "\n",
        "num_terms = int(input(\"Enter the number of Fibonacci terms you want: \"))\n",
        "fibonacci_sequence = FibonacciIterator(num_terms)\n",
        "\n",
        "for number in fibonacci_sequence:\n",
        "    print(number,end=\" \")"
      ],
      "metadata": {
        "colab": {
          "base_uri": "https://localhost:8080/"
        },
        "id": "8flCrdq5F2re",
        "outputId": "b5d48a81-d21a-4e41-d2af-a2cbb747659f"
      },
      "execution_count": 8,
      "outputs": [
        {
          "output_type": "stream",
          "name": "stdout",
          "text": [
            "Enter the number of Fibonacci terms you want: 2\n",
            "0 1 "
          ]
        }
      ]
    },
    {
      "cell_type": "code",
      "source": [
        "# Q6. Write a generator function in Python that yields the powers of 2 up to a given exponent.\n",
        "\n",
        "def powers_of_two(exponent):\n",
        "    for i in range(exponent + 1):  # From 0 to the given exponent (inclusive)\n",
        "        yield 2 ** i  # Yield 2 raised to the power of i\n",
        "\n",
        "# Example usage:\n",
        "exponent = int(input(\"Enter the exponent to generate powers of 2: \"))\n",
        "for power in powers_of_two(exponent):\n",
        "    print(power,end=\" \")"
      ],
      "metadata": {
        "colab": {
          "base_uri": "https://localhost:8080/"
        },
        "id": "mrCDIkklFs5G",
        "outputId": "0d854eae-24d2-4aa5-df9b-fdbc81b08af2"
      },
      "execution_count": 10,
      "outputs": [
        {
          "output_type": "stream",
          "name": "stdout",
          "text": [
            "Enter the exponent to generate powers of 2: 2\n",
            "1 2 4 "
          ]
        }
      ]
    },
    {
      "cell_type": "code",
      "source": [
        "# Q7. Implement a generator function that reads a file line by line and yields each line as a string.\n",
        "\n",
        "def read_file_line_by_line(file_path):\n",
        "    try:\n",
        "        with open(file_path, 'r') as file:\n",
        "            for line in file:\n",
        "                yield line.strip()  # Yield each line, removing any extra newline characters\n",
        "    except FileNotFoundError:\n",
        "        print(f\"Error: The file '{file_path}' was not found.\")\n",
        "    except Exception as e:\n",
        "        print(f\"Error: {e}\")\n",
        "\n",
        "# Example usage:\n",
        "file_path = input(\"Enter the path to the file: \")\n",
        "for line in read_file_line_by_line(file_path):\n",
        "    print(line)\n",
        "\n",
        "# this codes properly works on VS code and other code editors"
      ],
      "metadata": {
        "colab": {
          "base_uri": "https://localhost:8080/"
        },
        "id": "GZ3-UOpdGie-",
        "outputId": "07cf3148-00ec-4691-8a10-051b3d14e428"
      },
      "execution_count": 11,
      "outputs": [
        {
          "output_type": "stream",
          "name": "stdout",
          "text": [
            "Enter the path to the file: D:\\Coding\\PythonCodes\\Example.txt\n",
            "Error: The file 'D:\\Coding\\PythonCodes\\Example.txt' was not found.\n"
          ]
        }
      ]
    },
    {
      "cell_type": "code",
      "source": [
        "# Q8. Use a lambda function in Python to sort a list of tuples based on the second element of each tuple.\n",
        "\n",
        "tuples_list = [(1, 3), (2, 1), (4, 2), (3, 5)]\n",
        "sorted_tuples = sorted(tuples_list, key=lambda x: x[1])\n",
        "print(\"Sorted list based on the second element of each tuple:\", sorted_tuples)"
      ],
      "metadata": {
        "colab": {
          "base_uri": "https://localhost:8080/"
        },
        "id": "hYdQr1cCGtZ2",
        "outputId": "f0cab8de-64b0-46d4-f703-d6647bb56d27"
      },
      "execution_count": 12,
      "outputs": [
        {
          "output_type": "stream",
          "name": "stdout",
          "text": [
            "Sorted list based on the second element of each tuple: [(2, 1), (4, 2), (1, 3), (3, 5)]\n"
          ]
        }
      ]
    },
    {
      "cell_type": "code",
      "source": [
        "# Q9. Write a Python program that uses map() to convert a list of temperatures from Celsius to Fahrenheit.\n",
        "\n",
        "celsius_temperatures = [0, 20, 30, 40, 100]\n",
        "def celsius_to_fahrenheit(celsius):\n",
        "    return (celsius * 9/5) + 32\n",
        "fahrenheit_temperatures = list(map(celsius_to_fahrenheit, celsius_temperatures))\n",
        "print(\"Temperatures in Fahrenheit:\", fahrenheit_temperatures)"
      ],
      "metadata": {
        "colab": {
          "base_uri": "https://localhost:8080/"
        },
        "id": "62zMjotTHCNm",
        "outputId": "52e63fc8-7b3d-46cc-aff1-2a9a15cc31d3"
      },
      "execution_count": 13,
      "outputs": [
        {
          "output_type": "stream",
          "name": "stdout",
          "text": [
            "Temperatures in Fahrenheit: [32.0, 68.0, 86.0, 104.0, 212.0]\n"
          ]
        }
      ]
    },
    {
      "cell_type": "code",
      "source": [
        "# Q10. Create a Python program that uses filter() to remove all the vowels from a given string.\n",
        "\n",
        "def remove_vowels(char):\n",
        "    vowels = \"aeiouAEIOU\"\n",
        "    return char not in vowels\n",
        "input_string = input(\"Enter a string: \")\n",
        "filtered_string = ''.join(filter(remove_vowels, input_string))\n",
        "print(\"String after removing vowels:\", filtered_string)"
      ],
      "metadata": {
        "colab": {
          "base_uri": "https://localhost:8080/"
        },
        "id": "0oLBrXCwHLol",
        "outputId": "bb0c4ade-062d-41fd-8585-cd92cfa9b3f8"
      },
      "execution_count": 14,
      "outputs": [
        {
          "output_type": "stream",
          "name": "stdout",
          "text": [
            "Enter a string: Karan\n",
            "String after removing vowels: Krn\n"
          ]
        }
      ]
    },
    {
      "cell_type": "code",
      "source": [
        "# Q11) Imagine an accounting routine used in a book shop. It works on a list with sublists, which look like this,\n"
      ],
      "metadata": {
        "id": "02rrvSf2HS5W"
      },
      "execution_count": null,
      "outputs": []
    },
    {
      "cell_type": "code",
      "source": [],
      "metadata": {
        "id": "lyG4Fma7GdYu"
      },
      "execution_count": null,
      "outputs": []
    }
  ]
}